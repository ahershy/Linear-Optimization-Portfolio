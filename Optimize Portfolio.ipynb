{
 "cells": [
  {
   "cell_type": "markdown",
   "metadata": {},
   "source": [
    "Objective: Minimize risk while meeting goals"
   ]
  },
  {
   "cell_type": "markdown",
   "metadata": {},
   "source": [
    "Goals / Constraints:\n",
    "\n",
    "    -Minimum return at least 7.5%\n",
    "    \n",
    "    -At least 50% of investment A rating\n",
    "    \n",
    "    -At least 40% of investment immediately liquid\n",
    "    \n",
    "    -max in savings and cd = $30,000"
   ]
  },
  {
   "cell_type": "code",
   "execution_count": 1,
   "metadata": {
    "scrolled": false
   },
   "outputs": [
    {
     "data": {
      "text/html": [
       "<div>\n",
       "<style scoped>\n",
       "    .dataframe tbody tr th:only-of-type {\n",
       "        vertical-align: middle;\n",
       "    }\n",
       "\n",
       "    .dataframe tbody tr th {\n",
       "        vertical-align: top;\n",
       "    }\n",
       "\n",
       "    .dataframe thead th {\n",
       "        text-align: right;\n",
       "    }\n",
       "</style>\n",
       "<table border=\"1\" class=\"dataframe\">\n",
       "  <thead>\n",
       "    <tr style=\"text-align: right;\">\n",
       "      <th></th>\n",
       "      <th>Designation</th>\n",
       "      <th>Potential Investment</th>\n",
       "      <th>Expected Return</th>\n",
       "      <th>Rating</th>\n",
       "      <th>Risk</th>\n",
       "      <th>Liquidity</th>\n",
       "    </tr>\n",
       "  </thead>\n",
       "  <tbody>\n",
       "    <tr>\n",
       "      <th>0</th>\n",
       "      <td>x1</td>\n",
       "      <td>Savings Account</td>\n",
       "      <td>0.040</td>\n",
       "      <td>A</td>\n",
       "      <td>0</td>\n",
       "      <td>Immediate</td>\n",
       "    </tr>\n",
       "    <tr>\n",
       "      <th>1</th>\n",
       "      <td>x2</td>\n",
       "      <td>Certificate of Deposit</td>\n",
       "      <td>0.052</td>\n",
       "      <td>A</td>\n",
       "      <td>0</td>\n",
       "      <td>5-year</td>\n",
       "    </tr>\n",
       "    <tr>\n",
       "      <th>2</th>\n",
       "      <td>x3</td>\n",
       "      <td>Atlantic Lighting</td>\n",
       "      <td>0.071</td>\n",
       "      <td>B+</td>\n",
       "      <td>25</td>\n",
       "      <td>Immediate</td>\n",
       "    </tr>\n",
       "    <tr>\n",
       "      <th>3</th>\n",
       "      <td>x4</td>\n",
       "      <td>Arkansas REIT</td>\n",
       "      <td>0.100</td>\n",
       "      <td>B+</td>\n",
       "      <td>30</td>\n",
       "      <td>Immediate</td>\n",
       "    </tr>\n",
       "    <tr>\n",
       "      <th>4</th>\n",
       "      <td>x5</td>\n",
       "      <td>Bedrock Insurance Annuity</td>\n",
       "      <td>0.082</td>\n",
       "      <td>A</td>\n",
       "      <td>20</td>\n",
       "      <td>1-year</td>\n",
       "    </tr>\n",
       "    <tr>\n",
       "      <th>5</th>\n",
       "      <td>x6</td>\n",
       "      <td>Nocal Mining Bond</td>\n",
       "      <td>0.065</td>\n",
       "      <td>B+</td>\n",
       "      <td>15</td>\n",
       "      <td>1-year</td>\n",
       "    </tr>\n",
       "    <tr>\n",
       "      <th>6</th>\n",
       "      <td>x7</td>\n",
       "      <td>Minocomp Systems</td>\n",
       "      <td>0.200</td>\n",
       "      <td>A</td>\n",
       "      <td>65</td>\n",
       "      <td>Immediate</td>\n",
       "    </tr>\n",
       "    <tr>\n",
       "      <th>7</th>\n",
       "      <td>x8</td>\n",
       "      <td>Antony Hotels</td>\n",
       "      <td>0.125</td>\n",
       "      <td>C</td>\n",
       "      <td>40</td>\n",
       "      <td>Immediate</td>\n",
       "    </tr>\n",
       "  </tbody>\n",
       "</table>\n",
       "</div>"
      ],
      "text/plain": [
       "  Designation       Potential Investment  Expected Return Rating  Risk  \\\n",
       "0          x1            Savings Account            0.040      A     0   \n",
       "1          x2     Certificate of Deposit            0.052      A     0   \n",
       "2          x3          Atlantic Lighting            0.071     B+    25   \n",
       "3          x4              Arkansas REIT            0.100     B+    30   \n",
       "4          x5  Bedrock Insurance Annuity            0.082      A    20   \n",
       "5          x6          Nocal Mining Bond            0.065     B+    15   \n",
       "6          x7           Minocomp Systems            0.200      A    65   \n",
       "7          x8              Antony Hotels            0.125      C    40   \n",
       "\n",
       "   Liquidity  \n",
       "0  Immediate  \n",
       "1     5-year  \n",
       "2  Immediate  \n",
       "3  Immediate  \n",
       "4     1-year  \n",
       "5     1-year  \n",
       "6  Immediate  \n",
       "7  Immediate  "
      ]
     },
     "execution_count": 1,
     "metadata": {},
     "output_type": "execute_result"
    }
   ],
   "source": [
    "from pulp import *\n",
    "import pandas as pd\n",
    "df = pd.read_excel(r\"C:\\Users\\Andrew\\Desktop\\Fin_optimization.xlsx\")\n",
    "df"
   ]
  },
  {
   "cell_type": "code",
   "execution_count": 2,
   "metadata": {},
   "outputs": [
    {
     "data": {
      "text/html": [
       "<div>\n",
       "<style scoped>\n",
       "    .dataframe tbody tr th:only-of-type {\n",
       "        vertical-align: middle;\n",
       "    }\n",
       "\n",
       "    .dataframe tbody tr th {\n",
       "        vertical-align: top;\n",
       "    }\n",
       "\n",
       "    .dataframe thead th {\n",
       "        text-align: right;\n",
       "    }\n",
       "</style>\n",
       "<table border=\"1\" class=\"dataframe\">\n",
       "  <thead>\n",
       "    <tr style=\"text-align: right;\">\n",
       "      <th></th>\n",
       "      <th>Designation</th>\n",
       "      <th>Potential Investment</th>\n",
       "      <th>Expected Return</th>\n",
       "      <th>Rating</th>\n",
       "      <th>Risk</th>\n",
       "      <th>Liquidity</th>\n",
       "      <th>Saving&amp;CD</th>\n",
       "      <th>Amt_Invested</th>\n",
       "    </tr>\n",
       "  </thead>\n",
       "  <tbody>\n",
       "    <tr>\n",
       "      <th>0</th>\n",
       "      <td>x1</td>\n",
       "      <td>Savings Account</td>\n",
       "      <td>0.040</td>\n",
       "      <td>1</td>\n",
       "      <td>0</td>\n",
       "      <td>1</td>\n",
       "      <td>1</td>\n",
       "      <td>1</td>\n",
       "    </tr>\n",
       "    <tr>\n",
       "      <th>1</th>\n",
       "      <td>x2</td>\n",
       "      <td>Certificate of Deposit</td>\n",
       "      <td>0.052</td>\n",
       "      <td>1</td>\n",
       "      <td>0</td>\n",
       "      <td>0</td>\n",
       "      <td>1</td>\n",
       "      <td>1</td>\n",
       "    </tr>\n",
       "    <tr>\n",
       "      <th>2</th>\n",
       "      <td>x3</td>\n",
       "      <td>Atlantic Lighting</td>\n",
       "      <td>0.071</td>\n",
       "      <td>0</td>\n",
       "      <td>25</td>\n",
       "      <td>1</td>\n",
       "      <td>0</td>\n",
       "      <td>1</td>\n",
       "    </tr>\n",
       "    <tr>\n",
       "      <th>3</th>\n",
       "      <td>x4</td>\n",
       "      <td>Arkansas REIT</td>\n",
       "      <td>0.100</td>\n",
       "      <td>0</td>\n",
       "      <td>30</td>\n",
       "      <td>1</td>\n",
       "      <td>0</td>\n",
       "      <td>1</td>\n",
       "    </tr>\n",
       "    <tr>\n",
       "      <th>4</th>\n",
       "      <td>x5</td>\n",
       "      <td>Bedrock Insurance Annuity</td>\n",
       "      <td>0.082</td>\n",
       "      <td>1</td>\n",
       "      <td>20</td>\n",
       "      <td>0</td>\n",
       "      <td>0</td>\n",
       "      <td>1</td>\n",
       "    </tr>\n",
       "    <tr>\n",
       "      <th>5</th>\n",
       "      <td>x6</td>\n",
       "      <td>Nocal Mining Bond</td>\n",
       "      <td>0.065</td>\n",
       "      <td>0</td>\n",
       "      <td>15</td>\n",
       "      <td>0</td>\n",
       "      <td>0</td>\n",
       "      <td>1</td>\n",
       "    </tr>\n",
       "    <tr>\n",
       "      <th>6</th>\n",
       "      <td>x7</td>\n",
       "      <td>Minocomp Systems</td>\n",
       "      <td>0.200</td>\n",
       "      <td>1</td>\n",
       "      <td>65</td>\n",
       "      <td>1</td>\n",
       "      <td>0</td>\n",
       "      <td>1</td>\n",
       "    </tr>\n",
       "    <tr>\n",
       "      <th>7</th>\n",
       "      <td>x8</td>\n",
       "      <td>Antony Hotels</td>\n",
       "      <td>0.125</td>\n",
       "      <td>0</td>\n",
       "      <td>40</td>\n",
       "      <td>1</td>\n",
       "      <td>0</td>\n",
       "      <td>1</td>\n",
       "    </tr>\n",
       "  </tbody>\n",
       "</table>\n",
       "</div>"
      ],
      "text/plain": [
       "  Designation       Potential Investment  Expected Return  Rating  Risk  \\\n",
       "0          x1            Savings Account            0.040       1     0   \n",
       "1          x2     Certificate of Deposit            0.052       1     0   \n",
       "2          x3          Atlantic Lighting            0.071       0    25   \n",
       "3          x4              Arkansas REIT            0.100       0    30   \n",
       "4          x5  Bedrock Insurance Annuity            0.082       1    20   \n",
       "5          x6          Nocal Mining Bond            0.065       0    15   \n",
       "6          x7           Minocomp Systems            0.200       1    65   \n",
       "7          x8              Antony Hotels            0.125       0    40   \n",
       "\n",
       "   Liquidity  Saving&CD  Amt_Invested  \n",
       "0          1          1             1  \n",
       "1          0          1             1  \n",
       "2          1          0             1  \n",
       "3          1          0             1  \n",
       "4          0          0             1  \n",
       "5          0          0             1  \n",
       "6          1          0             1  \n",
       "7          1          0             1  "
      ]
     },
     "execution_count": 2,
     "metadata": {},
     "output_type": "execute_result"
    }
   ],
   "source": [
    "#1's and 0's\n",
    "df['Liquidity'] = (df['Liquidity']=='Immediate')\n",
    "df['Liquidity'] = df['Liquidity'].astype(int)\n",
    "\n",
    "#1's and 0's\n",
    "df['Rating'] = (df['Rating']=='A')\n",
    "df['Rating']= df['Rating'].astype(int)\n",
    "\n",
    "#1's and 0's\n",
    "savecd = [1,1,0,0,0,0,0,0]\n",
    "df['Saving&CD'] = savecd\n",
    "\n",
    "#1's and 0's\n",
    "amt_invested = [1]*8\n",
    "df['Amt_Invested'] = amt_invested\n",
    "df"
   ]
  },
  {
   "cell_type": "code",
   "execution_count": 3,
   "metadata": {},
   "outputs": [],
   "source": [
    "prob = LpProblem(\"Portfolio_Opt\",LpMinimize)"
   ]
  },
  {
   "cell_type": "code",
   "execution_count": 4,
   "metadata": {},
   "outputs": [
    {
     "data": {
      "text/plain": [
       "Portfolio_Opt:\n",
       "MINIMIZE\n",
       "None\n",
       "VARIABLES"
      ]
     },
     "execution_count": 4,
     "metadata": {},
     "output_type": "execute_result"
    }
   ],
   "source": [
    "prob"
   ]
  },
  {
   "cell_type": "code",
   "execution_count": 5,
   "metadata": {},
   "outputs": [
    {
     "data": {
      "text/plain": [
       "{'Savings Account': 0,\n",
       " 'Certificate of Deposit': 0,\n",
       " 'Atlantic Lighting': 25,\n",
       " 'Arkansas REIT': 30,\n",
       " 'Bedrock Insurance Annuity': 20,\n",
       " 'Nocal Mining Bond': 15,\n",
       " 'Minocomp Systems': 65,\n",
       " 'Antony Hotels': 40}"
      ]
     },
     "execution_count": 5,
     "metadata": {},
     "output_type": "execute_result"
    }
   ],
   "source": [
    "# Create a list of the inventment items\n",
    "inv_items = list(df['Potential Investment'])\n",
    "\n",
    "# Create a dictinary of risks for all inv items\n",
    "risks = dict(zip(inv_items,df['Risk']))\n",
    "\n",
    "# Create a dictionary of returns for all inv items\n",
    "returns = dict(zip(inv_items,df['Expected Return']))\n",
    "\n",
    "#Create dictionary for ratings of inv items\n",
    "ratings = dict(zip(inv_items,df['Rating']))\n",
    "\n",
    "# Create a dictionary for liquidity for all inv items\n",
    "liquidity = dict(zip(inv_items,df['Liquidity']))\n",
    "\n",
    "#Create a dictionary for savecd for inve items\n",
    "savecd = dict(zip(inv_items,df['Saving&CD']))\n",
    "\n",
    "#Create a dictionary for amt as being all 1's\n",
    "amt = dict(zip(inv_items,df['Amt_Invested']))\n",
    "risks"
   ]
  },
  {
   "cell_type": "code",
   "execution_count": 6,
   "metadata": {},
   "outputs": [
    {
     "data": {
      "text/plain": [
       "{'Savings Account': Potential_Investment_Savings_Account,\n",
       " 'Certificate of Deposit': Potential_Investment_Certificate_of_Deposit,\n",
       " 'Atlantic Lighting': Potential_Investment_Atlantic_Lighting,\n",
       " 'Arkansas REIT': Potential_Investment_Arkansas_REIT,\n",
       " 'Bedrock Insurance Annuity': Potential_Investment_Bedrock_Insurance_Annuity,\n",
       " 'Nocal Mining Bond': Potential_Investment_Nocal_Mining_Bond,\n",
       " 'Minocomp Systems': Potential_Investment_Minocomp_Systems,\n",
       " 'Antony Hotels': Potential_Investment_Antony_Hotels}"
      ]
     },
     "execution_count": 6,
     "metadata": {},
     "output_type": "execute_result"
    }
   ],
   "source": [
    "inv_vars = LpVariable.dicts(\"Potential Investment\",inv_items,lowBound=0,cat='Continuous')\n",
    "inv_vars"
   ]
  },
  {
   "cell_type": "code",
   "execution_count": 7,
   "metadata": {},
   "outputs": [
    {
     "data": {
      "text/plain": [
       "Portfolio_Opt:\n",
       "MINIMIZE\n",
       "40*Potential_Investment_Antony_Hotels + 30*Potential_Investment_Arkansas_REIT + 25*Potential_Investment_Atlantic_Lighting + 20*Potential_Investment_Bedrock_Insurance_Annuity + 65*Potential_Investment_Minocomp_Systems + 15*Potential_Investment_Nocal_Mining_Bond + 0\n",
       "VARIABLES\n",
       "Potential_Investment_Antony_Hotels Continuous\n",
       "Potential_Investment_Arkansas_REIT Continuous\n",
       "Potential_Investment_Atlantic_Lighting Continuous\n",
       "Potential_Investment_Bedrock_Insurance_Annuity Continuous\n",
       "Potential_Investment_Minocomp_Systems Continuous\n",
       "Potential_Investment_Nocal_Mining_Bond Continuous"
      ]
     },
     "execution_count": 7,
     "metadata": {},
     "output_type": "execute_result"
    }
   ],
   "source": [
    "prob += lpSum([risks[i]*inv_vars[i] for i in inv_items])\n",
    "prob"
   ]
  },
  {
   "cell_type": "code",
   "execution_count": 8,
   "metadata": {},
   "outputs": [],
   "source": [
    "# amt\n",
    "prob += lpSum([amt[f] * inv_vars[f] for f in inv_items]) == 100000, \"Investments\"\n",
    "prob += lpSum([returns[f] * inv_vars[f] for f in inv_items]) >= 7500, \"Returns\"\n",
    "prob += lpSum([ratings[f] * inv_vars[f] for f in inv_items]) >= 50000, \"Ratings\"\n",
    "prob += lpSum([liquidity[f] * inv_vars[f] for f in inv_items]) >= 40000, \"Liquidity\"\n",
    "prob += lpSum([savecd[f] * inv_vars[f] for f in inv_items]) <= 30000, \"Save and CD\""
   ]
  },
  {
   "cell_type": "code",
   "execution_count": 9,
   "metadata": {},
   "outputs": [
    {
     "data": {
      "text/plain": [
       "Portfolio_Opt:\n",
       "MINIMIZE\n",
       "40*Potential_Investment_Antony_Hotels + 30*Potential_Investment_Arkansas_REIT + 25*Potential_Investment_Atlantic_Lighting + 20*Potential_Investment_Bedrock_Insurance_Annuity + 65*Potential_Investment_Minocomp_Systems + 15*Potential_Investment_Nocal_Mining_Bond + 0\n",
       "SUBJECT TO\n",
       "Investments: Potential_Investment_Antony_Hotels\n",
       " + Potential_Investment_Arkansas_REIT + Potential_Investment_Atlantic_Lighting\n",
       " + Potential_Investment_Bedrock_Insurance_Annuity\n",
       " + Potential_Investment_Certificate_of_Deposit\n",
       " + Potential_Investment_Minocomp_Systems\n",
       " + Potential_Investment_Nocal_Mining_Bond\n",
       " + Potential_Investment_Savings_Account = 100000\n",
       "\n",
       "Returns: 0.125 Potential_Investment_Antony_Hotels\n",
       " + 0.1 Potential_Investment_Arkansas_REIT\n",
       " + 0.071 Potential_Investment_Atlantic_Lighting\n",
       " + 0.082 Potential_Investment_Bedrock_Insurance_Annuity\n",
       " + 0.052 Potential_Investment_Certificate_of_Deposit\n",
       " + 0.2 Potential_Investment_Minocomp_Systems\n",
       " + 0.065 Potential_Investment_Nocal_Mining_Bond\n",
       " + 0.04 Potential_Investment_Savings_Account >= 7500\n",
       "\n",
       "Ratings: Potential_Investment_Bedrock_Insurance_Annuity\n",
       " + Potential_Investment_Certificate_of_Deposit\n",
       " + Potential_Investment_Minocomp_Systems\n",
       " + Potential_Investment_Savings_Account >= 50000\n",
       "\n",
       "Liquidity: Potential_Investment_Antony_Hotels\n",
       " + Potential_Investment_Arkansas_REIT + Potential_Investment_Atlantic_Lighting\n",
       " + Potential_Investment_Minocomp_Systems\n",
       " + Potential_Investment_Savings_Account >= 40000\n",
       "\n",
       "Save_and_CD: Potential_Investment_Certificate_of_Deposit\n",
       " + Potential_Investment_Savings_Account <= 30000\n",
       "\n",
       "VARIABLES\n",
       "Potential_Investment_Antony_Hotels Continuous\n",
       "Potential_Investment_Arkansas_REIT Continuous\n",
       "Potential_Investment_Atlantic_Lighting Continuous\n",
       "Potential_Investment_Bedrock_Insurance_Annuity Continuous\n",
       "Potential_Investment_Certificate_of_Deposit Continuous\n",
       "Potential_Investment_Minocomp_Systems Continuous\n",
       "Potential_Investment_Nocal_Mining_Bond Continuous\n",
       "Potential_Investment_Savings_Account Continuous"
      ]
     },
     "execution_count": 9,
     "metadata": {},
     "output_type": "execute_result"
    }
   ],
   "source": [
    "prob"
   ]
  },
  {
   "cell_type": "code",
   "execution_count": 10,
   "metadata": {},
   "outputs": [],
   "source": []
  },
  {
   "cell_type": "code",
   "execution_count": 11,
   "metadata": {},
   "outputs": [
    {
     "data": {
      "text/plain": [
       "1"
      ]
     },
     "execution_count": 11,
     "metadata": {},
     "output_type": "execute_result"
    }
   ],
   "source": [
    "prob.solve()"
   ]
  },
  {
   "cell_type": "code",
   "execution_count": 12,
   "metadata": {},
   "outputs": [
    {
     "name": "stdout",
     "output_type": "stream",
     "text": [
      "The optimal portfolio consists of\n",
      "--------------------------------------------------------------------------------------------------------------\n",
      "Potential_Investment_Arkansas_REIT = 22666.667\n",
      "Potential_Investment_Bedrock_Insurance_Annuity = 47333.333\n",
      "Potential_Investment_Certificate_of_Deposit = 12666.667\n",
      "Potential_Investment_Savings_Account = 17333.333\n"
     ]
    }
   ],
   "source": [
    "prob.writeLP(\"Portfolio_Opt.lp\")\n",
    "print(\"The optimal portfolio consists of\\n\"+\"-\"*110)\n",
    "for v in prob.variables():\n",
    "    if v.varValue>0:\n",
    "        print(v.name, \"=\", v.varValue)"
   ]
  },
  {
   "cell_type": "code",
   "execution_count": null,
   "metadata": {},
   "outputs": [],
   "source": []
  },
  {
   "cell_type": "code",
   "execution_count": null,
   "metadata": {},
   "outputs": [],
   "source": []
  },
  {
   "cell_type": "code",
   "execution_count": null,
   "metadata": {},
   "outputs": [],
   "source": []
  },
  {
   "cell_type": "code",
   "execution_count": null,
   "metadata": {},
   "outputs": [],
   "source": []
  },
  {
   "cell_type": "code",
   "execution_count": null,
   "metadata": {},
   "outputs": [],
   "source": []
  },
  {
   "cell_type": "code",
   "execution_count": null,
   "metadata": {},
   "outputs": [],
   "source": []
  },
  {
   "cell_type": "code",
   "execution_count": null,
   "metadata": {},
   "outputs": [],
   "source": []
  },
  {
   "cell_type": "code",
   "execution_count": null,
   "metadata": {},
   "outputs": [],
   "source": []
  }
 ],
 "metadata": {
  "kernelspec": {
   "display_name": "Python 3",
   "language": "python",
   "name": "python3"
  },
  "language_info": {
   "codemirror_mode": {
    "name": "ipython",
    "version": 3
   },
   "file_extension": ".py",
   "mimetype": "text/x-python",
   "name": "python",
   "nbconvert_exporter": "python",
   "pygments_lexer": "ipython3",
   "version": "3.7.3"
  }
 },
 "nbformat": 4,
 "nbformat_minor": 2
}
